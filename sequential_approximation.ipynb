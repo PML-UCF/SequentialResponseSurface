{
 "cells": [
  {
   "cell_type": "code",
   "execution_count": null,
   "metadata": {
    "id": "t11unSqhkkvZ",
    "colab_type": "code",
    "colab": {
     "base_uri": "https://localhost:8080/",
     "height": 34.0
    },
    "outputId": "a205c066-2e26-4f04-dfe2-6314a1240db7",
    "executionInfo": {
     "status": "ok",
     "timestamp": 1.559233747946E12,
     "user_tz": 240.0,
     "elapsed": 1008.0,
     "user": {
      "displayName": "Arinan Dourado",
      "photoUrl": "https://lh6.googleusercontent.com/-t8WRezEeJ9A/AAAAAAAAAAI/AAAAAAAAADo/8VN1CcOAKLM/s64/photo.jpg",
      "userId": "18238120814873239739"
     }
    }
   },
   "outputs": [
    {
     "data": {
      "text/plain": [
       "'\\nSequqntial Approximation Code\\n'"
      ]
     },
     "execution_count": 1,
     "metadata": {
      "tags": []
     },
     "output_type": "execute_result"
    }
   ],
   "source": [
    "\"\"\"\n",
    "Sequqntial Approximation Code\n",
    "\"\"\""
   ]
  },
  {
   "cell_type": "code",
   "execution_count": 2,
   "metadata": {
    "id": "j6oJzbFekkvi",
    "colab_type": "code",
    "colab": {
     "base_uri": "https://localhost:8080/",
     "height": 330.0
    },
    "outputId": "72120408-2fe6-4f07-8226-26d2662795e4",
    "executionInfo": {
     "status": "error",
     "timestamp": 1.559233747982E12,
     "user_tz": 240.0,
     "elapsed": 1041.0,
     "user": {
      "displayName": "Arinan Dourado",
      "photoUrl": "https://lh6.googleusercontent.com/-t8WRezEeJ9A/AAAAAAAAAAI/AAAAAAAAADo/8VN1CcOAKLM/s64/photo.jpg",
      "userId": "18238120814873239739"
     }
    }
   },
   "outputs": [
    {
     "ename": "ModuleNotFoundError",
     "evalue": "ignored",
     "traceback": [
      "\u001b[0;31m---------------------------------------------------------------------------\u001b[0m",
      "\u001b[0;31mModuleNotFoundError\u001b[0m                       Traceback (most recent call last)",
      "\u001b[0;32m<ipython-input-2-10ec8eeff9e2>\u001b[0m in \u001b[0;36m<module>\u001b[0;34m()\u001b[0m\n\u001b[1;32m      5\u001b[0m \u001b[0;32mimport\u001b[0m \u001b[0msys\u001b[0m\u001b[0;34m\u001b[0m\u001b[0;34m\u001b[0m\u001b[0m\n\u001b[1;32m      6\u001b[0m \u001b[0msys\u001b[0m\u001b[0;34m.\u001b[0m\u001b[0mpath\u001b[0m\u001b[0;34m.\u001b[0m\u001b[0mappend\u001b[0m\u001b[0;34m(\u001b[0m\u001b[0;34m'../'\u001b[0m\u001b[0;34m)\u001b[0m\u001b[0;34m\u001b[0m\u001b[0;34m\u001b[0m\u001b[0m\n\u001b[0;32m----> 7\u001b[0;31m \u001b[0;32mfrom\u001b[0m \u001b[0mcore\u001b[0m \u001b[0;32mimport\u001b[0m \u001b[0mResponseSurface\u001b[0m\u001b[0;34m,\u001b[0m \u001b[0mGenerateGrid\u001b[0m\u001b[0;34m,\u001b[0m \u001b[0mDiagSampling\u001b[0m\u001b[0;34m,\u001b[0m \u001b[0mNewDOE\u001b[0m\u001b[0;34m\u001b[0m\u001b[0;34m\u001b[0m\u001b[0m\n\u001b[0m",
      "\u001b[0;31mModuleNotFoundError\u001b[0m: No module named 'core'",
      "",
      "\u001b[0;31m---------------------------------------------------------------------------\u001b[0;32m\nNOTE: If your import is failing due to a missing package, you can\nmanually install dependencies using either !pip or !apt.\n\nTo view examples of installing some common dependencies, click the\n\"Open Examples\" button below.\n\u001b[0;31m---------------------------------------------------------------------------\u001b[0m\n"
     ],
     "output_type": "error"
    }
   ],
   "source": [
    "import pandas as pd\n",
    "\n",
    "import matplotlib.pyplot as plt\n",
    "from mpl_toolkits.mplot3d import Axes3D\n",
    "import sys\n",
    "from core import ResponseSurface, GenerateGrid, DiagSampling, NewDOE"
   ]
  },
  {
   "cell_type": "code",
   "execution_count": 0,
   "metadata": {
    "id": "I5hpEc9Pkkvm",
    "colab_type": "code",
    "colab": {}
   },
   "outputs": [],
   "source": [
    "data = pd.read_csv('doe.csv', index_col=None)\n",
    "inputs = data[['Rr','Rw']]\n",
    "output = data['Ft']"
   ]
  },
  {
   "cell_type": "code",
   "execution_count": 0,
   "metadata": {
    "id": "b_Sg3pO3kkvr",
    "colab_type": "code",
    "colab": {}
   },
   "outputs": [],
   "source": [
    "MyResponseSurface = ResponseSurface(inputs, output, intercept=True, interaction=True)\n",
    "\n",
    "var1_limits = [2,6]\n",
    "var2_limits = [0.75,3]\n",
    "\n",
    "Grid = GenerateGrid(MyResponseSurface, var1_limits, var2_limits)"
   ]
  },
  {
   "cell_type": "code",
   "execution_count": 0,
   "metadata": {
    "id": "qDtb18DOkkvw",
    "colab_type": "code",
    "colab": {}
   },
   "outputs": [],
   "source": [
    "# Sequential Approximation"
   ]
  },
  {
   "cell_type": "code",
   "execution_count": 0,
   "metadata": {
    "id": "3Soi9C71kkvz",
    "colab_type": "code",
    "colab": {}
   },
   "outputs": [],
   "source": [
    "points = 15\n",
    "new = DiagSampling(Grid,inputs,output,var1_limits,var2_limits,points)"
   ]
  },
  {
   "cell_type": "code",
   "execution_count": 0,
   "metadata": {
    "id": "ylww5ipSkkv4",
    "colab_type": "code",
    "colab": {}
   },
   "outputs": [],
   "source": [
    "fig = plt.figure(figsize=(8.6, 6.6))\n",
    "ax = Axes3D(fig)\n",
    "ax.set_xlabel('Rotor radius (in)',fontsize = 14)\n",
    "ax.set_ylabel('Rotor width (in)',fontsize = 14)\n",
    "ax.set_zlabel('Flight time (s)',fontsize = 14)\n",
    "ax.view_init(elev=None, azim=135)\n",
    "\n",
    "ax.scatter(xs = inputs['Rr'], ys = inputs['Rw'], zs = output, s=50, c='r')\n",
    "ax.scatter(xs = new['Rr'], ys = new['Rw'], zs = new['Ft'], s=50, c='b')\n",
    "ax.view_init(elev=None, azim=135)\n",
    "\n",
    "ax.plot_surface(Grid['input1'], Grid['input2'], Grid['output'], shade = True, alpha = 0.5)"
   ]
  },
  {
   "cell_type": "code",
   "execution_count": 0,
   "metadata": {
    "id": "1ciRJ0zTkkv_",
    "colab_type": "code",
    "colab": {}
   },
   "outputs": [],
   "source": [
    "new_doe = NewDOE(data,new)\n",
    "new_doe.to_csv('new_doe.csv')"
   ]
  },
  {
   "cell_type": "code",
   "execution_count": 0,
   "metadata": {
    "id": "eSekIR91kkwC",
    "colab_type": "code",
    "colab": {}
   },
   "outputs": [],
   "source": [
    ""
   ]
  }
 ],
 "metadata": {
  "colab": {
   "name": "sequential_approximation.ipynb",
   "version": "0.3.2",
   "provenance": []
  },
  "language_info": {
   "codemirror_mode": {
    "name": "ipython",
    "version": 3
   },
   "file_extension": ".py",
   "mimetype": "text/x-python",
   "name": "python",
   "nbconvert_exporter": "python",
   "pygments_lexer": "ipython3",
   "version": "3.6.6"
  },
  "kernelspec": {
   "display_name": "Python 3",
   "language": "python",
   "name": "python3"
  }
 },
 "nbformat": 4,
 "nbformat_minor": 0
}
