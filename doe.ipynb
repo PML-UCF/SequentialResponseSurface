{
 "cells": [
  {
   "cell_type": "code",
   "execution_count": 1,
   "metadata": {
    "id": "J1y9sefBJ-lj",
    "colab_type": "code",
    "colab": {
     "base_uri": "https://localhost:8080/",
     "height": 187.0
    },
    "outputId": "a37e21c1-58d4-4a9f-eaf8-337130b6c89e",
    "executionInfo": {
     "status": "ok",
     "timestamp": 1.558541110832E12,
     "user_tz": 240.0,
     "elapsed": 5956.0,
     "user": {
      "displayName": "Renato Giorgiani Nascimento",
      "photoUrl": "https://lh3.googleusercontent.com/-1qIJjaZ224E/AAAAAAAAAAI/AAAAAAAAGP0/KtigTUa1N1w/s64/photo.jpg",
      "userId": "00128963210404819520"
     }
    }
   },
   "outputs": [
    {
     "name": "stdout",
     "output_type": "stream",
     "text": [
      "Collecting pyDOE\n",
      "  Downloading https://files.pythonhosted.org/packages/bc/ac/91fe4c039e2744466621343d3b8af4a485193ed0aab53af5b1db03be0989/pyDOE-0.3.8.zip\n",
      "Requirement already satisfied: numpy in /usr/local/lib/python3.6/dist-packages (from pyDOE) (1.16.3)\n",
      "Requirement already satisfied: scipy in /usr/local/lib/python3.6/dist-packages (from pyDOE) (1.3.0)\n",
      "Building wheels for collected packages: pyDOE\n",
      "  Building wheel for pyDOE (setup.py) ... \u001b[?25l\u001b[?25hdone\n",
      "  Stored in directory: /root/.cache/pip/wheels/7c/c8/58/a6493bd415e8ba5735082b5e0c096d7c1f2933077a8ce34544\n",
      "Successfully built pyDOE\n",
      "Installing collected packages: pyDOE\n",
      "Successfully installed pyDOE-0.3.8\n"
     ]
    }
   ],
   "source": [
    "!pip install pyDOE"
   ]
  },
  {
   "cell_type": "code",
   "execution_count": 0,
   "metadata": {
    "id": "cZjJpUJ5Seaj",
    "colab_type": "code",
    "colab": {}
   },
   "outputs": [],
   "source": [
    "from pyDOE import lhs\n",
    "from scipy.stats.distributions import norm\n",
    "import matplotlib.pyplot as plt\n",
    "import numpy as np\n",
    "import pandas as pd"
   ]
  },
  {
   "cell_type": "code",
   "execution_count": 0,
   "metadata": {
    "id": "qBMBcgM1ToHh",
    "colab_type": "code",
    "colab": {}
   },
   "outputs": [],
   "source": [
    "doe = lhs(2, samples=10, criterion='maximin')"
   ]
  },
  {
   "cell_type": "code",
   "execution_count": 25,
   "metadata": {
    "id": "gRJnMBPdlGXM",
    "colab_type": "code",
    "colab": {
     "base_uri": "https://localhost:8080/",
     "height": 269.0
    },
    "outputId": "ee132858-8f36-40a4-8946-fec1cd975567",
    "executionInfo": {
     "status": "ok",
     "timestamp": 1.558548762849E12,
     "user_tz": 240.0,
     "elapsed": 356.0,
     "user": {
      "displayName": "Renato Giorgiani Nascimento",
      "photoUrl": "https://lh3.googleusercontent.com/-1qIJjaZ224E/AAAAAAAAAAI/AAAAAAAAGP0/KtigTUa1N1w/s64/photo.jpg",
      "userId": "00128963210404819520"
     }
    }
   },
   "outputs": [
    {
     "data": {
      "image/png": "[encoded data removed]",
      "text/plain": [
       "<Figure size 432x288 with 1 Axes>"
      ]
     },
     "metadata": {
      "tags": []
     },
     "output_type": "display_data"
    }
   ],
   "source": [
    "plt.plot(doe[:,0],doe[:,1], '.k')\n",
    "plt.show()"
   ]
  },
  {
   "cell_type": "code",
   "execution_count": 0,
   "metadata": {
    "id": "7iCB2s90lieK",
    "colab_type": "code",
    "colab": {}
   },
   "outputs": [],
   "source": [
    "Rr_bounds = [2., 6.]\n",
    "Rw_bounds = [0.75, 3]"
   ]
  },
  {
   "cell_type": "code",
   "execution_count": 0,
   "metadata": {
    "id": "sSDnSNS3wrY9",
    "colab_type": "code",
    "colab": {}
   },
   "outputs": [],
   "source": [
    "scaledDoe = doe.copy()"
   ]
  },
  {
   "cell_type": "code",
   "execution_count": 0,
   "metadata": {
    "id": "Kx_qaPLexPIX",
    "colab_type": "code",
    "colab": {}
   },
   "outputs": [],
   "source": [
    "scaledDoe[:,0] = scaledDoe[:,0]*(Rr_bounds[1]-Rr_bounds[0]) + Rr_bounds[0]\n",
    "scaledDoe[:,1] = scaledDoe[:,1]*(Rw_bounds[1]-Rw_bounds[0]) + Rw_bounds[0]"
   ]
  },
  {
   "cell_type": "code",
   "execution_count": 40,
   "metadata": {
    "id": "fPPKsaDllyBE",
    "colab_type": "code",
    "colab": {
     "base_uri": "https://localhost:8080/",
     "height": 269.0
    },
    "outputId": "b624c229-71f2-47ce-c218-e182e20a0a89",
    "executionInfo": {
     "status": "ok",
     "timestamp": 1.55855045461E12,
     "user_tz": 240.0,
     "elapsed": 416.0,
     "user": {
      "displayName": "Renato Giorgiani Nascimento",
      "photoUrl": "https://lh3.googleusercontent.com/-1qIJjaZ224E/AAAAAAAAAAI/AAAAAAAAGP0/KtigTUa1N1w/s64/photo.jpg",
      "userId": "00128963210404819520"
     }
    }
   },
   "outputs": [
    {
     "data": {
      "image/png": "[encoded data removed]",
      "text/plain": [
       "<Figure size 432x288 with 1 Axes>"
      ]
     },
     "metadata": {
      "tags": []
     },
     "output_type": "display_data"
    }
   ],
   "source": [
    "plt.plot(scaledDoe[:,0],scaledDoe[:,1], '.k')\n",
    "plt.show()"
   ]
  },
  {
   "cell_type": "code",
   "execution_count": 0,
   "metadata": {
    "id": "jyfynVBFl-ai",
    "colab_type": "code",
    "colab": {}
   },
   "outputs": [],
   "source": [
    "df = pd.DataFrame(scaledDoe)"
   ]
  },
  {
   "cell_type": "code",
   "execution_count": 0,
   "metadata": {
    "id": "3V7qW1j0m-gc",
    "colab_type": "code",
    "colab": {}
   },
   "outputs": [],
   "source": [
    "df.columns = ['Rr', 'Rw']"
   ]
  },
  {
   "cell_type": "code",
   "execution_count": 0,
   "metadata": {
    "id": "jfS5TwZDm-8w",
    "colab_type": "code",
    "colab": {}
   },
   "outputs": [],
   "source": [
    "df['Ft']=''"
   ]
  },
  {
   "cell_type": "code",
   "execution_count": 55,
   "metadata": {
    "id": "FJ2m8leZ3n2d",
    "colab_type": "code",
    "colab": {
     "base_uri": "https://localhost:8080/",
     "height": 359.0
    },
    "outputId": "1ce46ef7-340d-48e0-d038-582e97afb2b5",
    "executionInfo": {
     "status": "ok",
     "timestamp": 1.558550843624E12,
     "user_tz": 240.0,
     "elapsed": 302.0,
     "user": {
      "displayName": "Renato Giorgiani Nascimento",
      "photoUrl": "https://lh3.googleusercontent.com/-1qIJjaZ224E/AAAAAAAAAAI/AAAAAAAAGP0/KtigTUa1N1w/s64/photo.jpg",
      "userId": "00128963210404819520"
     }
    }
   },
   "outputs": [
    {
     "data": {
      "text/html": [
       "<div>\n",
       "<style scoped>\n",
       "    .dataframe tbody tr th:only-of-type {\n",
       "        vertical-align: middle;\n",
       "    }\n",
       "\n",
       "    .dataframe tbody tr th {\n",
       "        vertical-align: top;\n",
       "    }\n",
       "\n",
       "    .dataframe thead th {\n",
       "        text-align: right;\n",
       "    }\n",
       "</style>\n",
       "<table border=\"1\" class=\"dataframe\">\n",
       "  <thead>\n",
       "    <tr style=\"text-align: right;\">\n",
       "      <th></th>\n",
       "      <th>Rr</th>\n",
       "      <th>Rw</th>\n",
       "      <th>Ft</th>\n",
       "    </tr>\n",
       "  </thead>\n",
       "  <tbody>\n",
       "    <tr>\n",
       "      <th>0</th>\n",
       "      <td>5.420215</td>\n",
       "      <td>2.300498</td>\n",
       "      <td></td>\n",
       "    </tr>\n",
       "    <tr>\n",
       "      <th>1</th>\n",
       "      <td>3.432585</td>\n",
       "      <td>2.929645</td>\n",
       "      <td></td>\n",
       "    </tr>\n",
       "    <tr>\n",
       "      <th>2</th>\n",
       "      <td>2.215134</td>\n",
       "      <td>2.630180</td>\n",
       "      <td></td>\n",
       "    </tr>\n",
       "    <tr>\n",
       "      <th>3</th>\n",
       "      <td>3.066981</td>\n",
       "      <td>1.324211</td>\n",
       "      <td></td>\n",
       "    </tr>\n",
       "    <tr>\n",
       "      <th>4</th>\n",
       "      <td>4.224626</td>\n",
       "      <td>2.526395</td>\n",
       "      <td></td>\n",
       "    </tr>\n",
       "    <tr>\n",
       "      <th>5</th>\n",
       "      <td>2.744314</td>\n",
       "      <td>2.025358</td>\n",
       "      <td></td>\n",
       "    </tr>\n",
       "    <tr>\n",
       "      <th>6</th>\n",
       "      <td>5.168367</td>\n",
       "      <td>1.660936</td>\n",
       "      <td></td>\n",
       "    </tr>\n",
       "    <tr>\n",
       "      <th>7</th>\n",
       "      <td>3.892957</td>\n",
       "      <td>1.518892</td>\n",
       "      <td></td>\n",
       "    </tr>\n",
       "    <tr>\n",
       "      <th>8</th>\n",
       "      <td>5.709605</td>\n",
       "      <td>1.106640</td>\n",
       "      <td></td>\n",
       "    </tr>\n",
       "    <tr>\n",
       "      <th>9</th>\n",
       "      <td>4.750538</td>\n",
       "      <td>0.880488</td>\n",
       "      <td></td>\n",
       "    </tr>\n",
       "  </tbody>\n",
       "</table>\n",
       "</div>"
      ],
      "text/plain": [
       "         Rr        Rw Ft\n",
       "0  5.420215  2.300498   \n",
       "1  3.432585  2.929645   \n",
       "2  2.215134  2.630180   \n",
       "3  3.066981  1.324211   \n",
       "4  4.224626  2.526395   \n",
       "5  2.744314  2.025358   \n",
       "6  5.168367  1.660936   \n",
       "7  3.892957  1.518892   \n",
       "8  5.709605  1.106640   \n",
       "9  4.750538  0.880488   "
      ]
     },
     "execution_count": 55,
     "metadata": {
      "tags": []
     },
     "output_type": "execute_result"
    }
   ],
   "source": [
    "df"
   ]
  },
  {
   "cell_type": "code",
   "execution_count": 0,
   "metadata": {
    "id": "WJyvMO-gnOJW",
    "colab_type": "code",
    "colab": {}
   },
   "outputs": [],
   "source": [
    "df.to_csv('doe.csv')"
   ]
  }
 ],
 "metadata": {
  "colab": {
   "name": "doe.ipynb",
   "version": "0.3.2",
   "provenance": [],
   "collapsed_sections": []
  },
  "kernelspec": {
   "name": "python3",
   "display_name": "Python 3"
  }
 },
 "nbformat": 4,
 "nbformat_minor": 0
}
