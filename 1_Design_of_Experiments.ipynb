{
  "nbformat": 4,
  "nbformat_minor": 0,
  "metadata": {
    "colab": {
      "name": "doe.ipynb",
      "version": "0.3.2",
      "provenance": [],
      "collapsed_sections": []
    },
    "kernelspec": {
      "name": "python3",
      "display_name": "Python 3"
    }
  },
  "cells": [
    {
      "cell_type": "markdown",
      "metadata": {
        "id": "578CPBxbBNKo",
        "colab_type": "text"
      },
      "source": [
        "# Design of experiments\n",
        "\n",
        "> *The term experiment is defined as the systematic procedure carried out under controlled conditions in order to discover an unknown effect, to test or establish a hypothesis, or to illustrate a known effect. When analyzing a process, experiments are often used to evaluate which process inputs have a significant impact on the process output, and what the target level of those inputs should be to achieve a desired result (output).* *\n",
        "\n",
        "\n",
        "**Cake-baking process example**\n",
        "\n",
        "![Cake-baking process example](https://media.moresteam.com/main/pics/4081.gif)\n",
        "\n",
        "\n",
        "\n",
        "\n",
        "[* https://www.moresteam.com/toolbox/design-of-experiments.cfm](https://www.moresteam.com/toolbox/design-of-experiments.cfm)\n",
        "\n",
        "\n",
        "\n",
        "---\n",
        "\n"
      ]
    },
    {
      "cell_type": "code",
      "metadata": {
        "id": "J1y9sefBJ-lj",
        "colab_type": "code",
        "outputId": "e0aec80c-69d4-410a-c060-ea4d61e90ae9",
        "colab": {
          "base_uri": "https://localhost:8080/",
          "height": 187
        }
      },
      "source": [
        "# Install dependencies\n",
        "!pip install pyDOE"
      ],
      "execution_count": 0,
      "outputs": [
        {
          "output_type": "stream",
          "text": [
            "Collecting pyDOE\n",
            "  Downloading https://files.pythonhosted.org/packages/bc/ac/91fe4c039e2744466621343d3b8af4a485193ed0aab53af5b1db03be0989/pyDOE-0.3.8.zip\n",
            "Requirement already satisfied: numpy in /usr/local/lib/python3.6/dist-packages (from pyDOE) (1.16.4)\n",
            "Requirement already satisfied: scipy in /usr/local/lib/python3.6/dist-packages (from pyDOE) (1.3.0)\n",
            "Building wheels for collected packages: pyDOE\n",
            "  Building wheel for pyDOE (setup.py) ... \u001b[?25l\u001b[?25hdone\n",
            "  Stored in directory: /root/.cache/pip/wheels/7c/c8/58/a6493bd415e8ba5735082b5e0c096d7c1f2933077a8ce34544\n",
            "Successfully built pyDOE\n",
            "Installing collected packages: pyDOE\n",
            "Successfully installed pyDOE-0.3.8\n"
          ],
          "name": "stdout"
        }
      ]
    },
    {
      "cell_type": "code",
      "metadata": {
        "id": "-NO5MSugl8In",
        "colab_type": "code",
        "outputId": "46da3d7d-29e0-4196-fa03-f5c91886f0f3",
        "colab": {
          "base_uri": "https://localhost:8080/",
          "height": 34
        }
      },
      "source": [
        "# Mount Google Drive folder and create PML folder\n",
        "from google.colab import drive\n",
        "drive.mount('/content/drive/')\n",
        "%mkdir -p /content/drive/My\\ Drive/PML"
      ],
      "execution_count": 0,
      "outputs": [
        {
          "output_type": "stream",
          "text": [
            "Drive already mounted at /content/drive/; to attempt to forcibly remount, call drive.mount(\"/content/drive/\", force_remount=True).\n"
          ],
          "name": "stdout"
        }
      ]
    },
    {
      "cell_type": "code",
      "metadata": {
        "id": "cZjJpUJ5Seaj",
        "colab_type": "code",
        "colab": {}
      },
      "source": [
        "# Import all dependencies\n",
        "from pyDOE import lhs\n",
        "from scipy.stats.distributions import norm\n",
        "import matplotlib.pyplot as plt\n",
        "import numpy as np\n",
        "import pandas as pd"
      ],
      "execution_count": 0,
      "outputs": []
    },
    {
      "cell_type": "code",
      "metadata": {
        "id": "nCD2bCxa9rK1",
        "colab_type": "code",
        "colab": {}
      },
      "source": [
        "# Parameters to Adjust\n",
        "NUMBER_INPUTS = 2\n",
        "NUMBER_SAMPLES = 10\n",
        "\n",
        "# Boundaries for each input (LOWER, UPPER)\n",
        "INPUTS_BOUNDARIES = [\n",
        "    [2, 6],\n",
        "    [0.75, 3]\n",
        "]"
      ],
      "execution_count": 0,
      "outputs": []
    },
    {
      "cell_type": "code",
      "metadata": {
        "id": "qBMBcgM1ToHh",
        "colab_type": "code",
        "colab": {}
      },
      "source": [
        "# Generate DoE data (lhs - Latin-hypercube)\n",
        "doe = lhs(NUMBER_INPUTS, samples=NUMBER_SAMPLES, criterion='maximin', iterations=10000)"
      ],
      "execution_count": 0,
      "outputs": []
    },
    {
      "cell_type": "code",
      "metadata": {
        "id": "gRJnMBPdlGXM",
        "colab_type": "code",
        "outputId": "2f2013af-7341-42a4-b8ec-bc0bd4653ce7",
        "colab": {
          "base_uri": "https://localhost:8080/",
          "height": 269
        }
      },
      "source": [
        "plt.plot(doe[:,0],doe[:,1], '.k')\n",
        "plt.show()"
      ],
      "execution_count": 0,
      "outputs": [
        {
          "output_type": "display_data",
          "data": {
            "image/png": "[encoded data removed]",
            "text/plain": [
              "<Figure size 432x288 with 1 Axes>"
            ]
          },
          "metadata": {
            "tags": []
          }
        }
      ]
    },
    {
      "cell_type": "code",
      "metadata": {
        "id": "Kx_qaPLexPIX",
        "colab_type": "code",
        "colab": {}
      },
      "source": [
        "# Scale DoE data to Input Boundaries\n",
        "scaledDoe = doe.copy()\n",
        "for i in range(NUMBER_INPUTS):\n",
        "  scaledDoe[:,i] = scaledDoe[:,i]*(INPUTS_BOUNDARIES[i][1]-INPUTS_BOUNDARIES[i][0]) + INPUTS_BOUNDARIES[i][0]"
      ],
      "execution_count": 0,
      "outputs": []
    },
    {
      "cell_type": "code",
      "metadata": {
        "id": "fPPKsaDllyBE",
        "colab_type": "code",
        "outputId": "68722bf0-bef7-4e90-c3eb-c35a452b8b50",
        "colab": {
          "base_uri": "https://localhost:8080/",
          "height": 269
        }
      },
      "source": [
        "plt.plot(scaledDoe[:,0],scaledDoe[:,1], '.k')\n",
        "plt.show()"
      ],
      "execution_count": 0,
      "outputs": [
        {
          "output_type": "display_data",
          "data": {
            "image/png": "[encoded data removed]",
            "text/plain": [
              "<Figure size 432x288 with 1 Axes>"
            ]
          },
          "metadata": {
            "tags": []
          }
        }
      ]
    },
    {
      "cell_type": "code",
      "metadata": {
        "id": "jyfynVBFl-ai",
        "colab_type": "code",
        "colab": {}
      },
      "source": [
        "# Create DataFrame table with scaled DoE data\n",
        "df = pd.DataFrame(scaledDoe)"
      ],
      "execution_count": 0,
      "outputs": []
    },
    {
      "cell_type": "code",
      "metadata": {
        "id": "3V7qW1j0m-gc",
        "colab_type": "code",
        "colab": {}
      },
      "source": [
        "# Name input cols as x1,x2.. and add empty output col y\n",
        "df.columns = [ \"x{}\".format(i+1) for i in range(NUMBER_INPUTS)]\n",
        "df['y']=''"
      ],
      "execution_count": 0,
      "outputs": []
    },
    {
      "cell_type": "code",
      "metadata": {
        "id": "FJ2m8leZ3n2d",
        "colab_type": "code",
        "outputId": "c68b120b-b6bd-4404-fbac-645cf4f36d96",
        "colab": {
          "base_uri": "https://localhost:8080/",
          "height": 359
        }
      },
      "source": [
        "# Preview data table\n",
        "df"
      ],
      "execution_count": 0,
      "outputs": [
        {
          "output_type": "execute_result",
          "data": {
            "text/html": [
              "<div>\n",
              "<style scoped>\n",
              "    .dataframe tbody tr th:only-of-type {\n",
              "        vertical-align: middle;\n",
              "    }\n",
              "\n",
              "    .dataframe tbody tr th {\n",
              "        vertical-align: top;\n",
              "    }\n",
              "\n",
              "    .dataframe thead th {\n",
              "        text-align: right;\n",
              "    }\n",
              "</style>\n",
              "<table border=\"1\" class=\"dataframe\">\n",
              "  <thead>\n",
              "    <tr style=\"text-align: right;\">\n",
              "      <th></th>\n",
              "      <th>x1</th>\n",
              "      <th>x2</th>\n",
              "      <th>y</th>\n",
              "    </tr>\n",
              "  </thead>\n",
              "  <tbody>\n",
              "    <tr>\n",
              "      <th>0</th>\n",
              "      <td>2.462127</td>\n",
              "      <td>1.814378</td>\n",
              "      <td></td>\n",
              "    </tr>\n",
              "    <tr>\n",
              "      <th>1</th>\n",
              "      <td>4.556252</td>\n",
              "      <td>2.221147</td>\n",
              "      <td></td>\n",
              "    </tr>\n",
              "    <tr>\n",
              "      <th>2</th>\n",
              "      <td>3.265896</td>\n",
              "      <td>1.126927</td>\n",
              "      <td></td>\n",
              "    </tr>\n",
              "    <tr>\n",
              "      <th>3</th>\n",
              "      <td>5.892280</td>\n",
              "      <td>2.617749</td>\n",
              "      <td></td>\n",
              "    </tr>\n",
              "    <tr>\n",
              "      <th>4</th>\n",
              "      <td>4.101892</td>\n",
              "      <td>1.280560</td>\n",
              "      <td></td>\n",
              "    </tr>\n",
              "    <tr>\n",
              "      <th>5</th>\n",
              "      <td>5.083637</td>\n",
              "      <td>0.767965</td>\n",
              "      <td></td>\n",
              "    </tr>\n",
              "    <tr>\n",
              "      <th>6</th>\n",
              "      <td>2.243664</td>\n",
              "      <td>2.439529</td>\n",
              "      <td></td>\n",
              "    </tr>\n",
              "    <tr>\n",
              "      <th>7</th>\n",
              "      <td>5.355385</td>\n",
              "      <td>1.535258</td>\n",
              "      <td></td>\n",
              "    </tr>\n",
              "    <tr>\n",
              "      <th>8</th>\n",
              "      <td>3.086517</td>\n",
              "      <td>2.059464</td>\n",
              "      <td></td>\n",
              "    </tr>\n",
              "    <tr>\n",
              "      <th>9</th>\n",
              "      <td>3.614774</td>\n",
              "      <td>2.914214</td>\n",
              "      <td></td>\n",
              "    </tr>\n",
              "  </tbody>\n",
              "</table>\n",
              "</div>"
            ],
            "text/plain": [
              "         x1        x2 y\n",
              "0  2.462127  1.814378  \n",
              "1  4.556252  2.221147  \n",
              "2  3.265896  1.126927  \n",
              "3  5.892280  2.617749  \n",
              "4  4.101892  1.280560  \n",
              "5  5.083637  0.767965  \n",
              "6  2.243664  2.439529  \n",
              "7  5.355385  1.535258  \n",
              "8  3.086517  2.059464  \n",
              "9  3.614774  2.914214  "
            ]
          },
          "metadata": {
            "tags": []
          },
          "execution_count": 14
        }
      ]
    },
    {
      "cell_type": "code",
      "metadata": {
        "id": "tvkhwsh0pXca",
        "colab_type": "code",
        "colab": {}
      },
      "source": [
        "# Save DoE data to Google Drive PML folder\n",
        "df.to_excel('drive/My Drive/PML/doe.xlsx', index=False)"
      ],
      "execution_count": 0,
      "outputs": []
    },
    {
      "cell_type": "code",
      "metadata": {
        "id": "AwzutrPUrfsv",
        "colab_type": "code",
        "colab": {}
      },
      "source": [
        ""
      ],
      "execution_count": 0,
      "outputs": []
    }
  ]
}